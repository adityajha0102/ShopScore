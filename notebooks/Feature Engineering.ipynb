{
 "cells": [
  {
   "cell_type": "code",
   "execution_count": 1,
   "id": "d606d352-2003-4e80-8a4c-f7567c3e0def",
   "metadata": {},
   "outputs": [],
   "source": [
    "import pandas as pd\n",
    "import numpy as np\n",
    "import seaborn as sns\n",
    "import matplotlib.pyplot as plt"
   ]
  },
  {
   "cell_type": "code",
   "execution_count": 2,
   "id": "16ccf5fc-2fa2-4ac0-baa1-080328331bb5",
   "metadata": {},
   "outputs": [],
   "source": [
    "data = pd.read_csv(r'../data/merged_data/preprocessed_data.csv')"
   ]
  },
  {
   "cell_type": "code",
   "execution_count": 3,
   "id": "b8c4bd6d-3ff3-4bc5-872b-f348cae983c9",
   "metadata": {},
   "outputs": [
    {
     "data": {
      "text/plain": [
       "0         2017-10-02 10:56:33\n",
       "1         2017-10-02 10:56:33\n",
       "2         2017-10-02 10:56:33\n",
       "3         2018-08-08 08:38:49\n",
       "4         2017-11-18 19:28:06\n",
       "                 ...         \n",
       "112291    2018-02-06 12:58:58\n",
       "112292    2017-08-27 14:46:43\n",
       "112293    2018-01-08 21:28:27\n",
       "112294    2018-01-08 21:28:27\n",
       "112295    2018-03-08 20:57:30\n",
       "Name: order_purchase_timestamp, Length: 112296, dtype: object"
      ]
     },
     "execution_count": 3,
     "metadata": {},
     "output_type": "execute_result"
    }
   ],
   "source": [
    "data['order_purchase_timestamp']"
   ]
  },
  {
   "cell_type": "code",
   "execution_count": 4,
   "id": "7cf367f6-7f85-4e36-a38d-5ac6df317d6b",
   "metadata": {},
   "outputs": [
    {
     "data": {
      "text/plain": [
       "datetime.date"
      ]
     },
     "execution_count": 4,
     "metadata": {},
     "output_type": "execute_result"
    }
   ],
   "source": [
    "#converting the timestamp format data to date data as we need just the date and not the exact time\n",
    "data['order_purchase_timestamp'] = pd.to_datetime(data['order_purchase_timestamp'], errors='coerce').dt.date\n",
    "data['order_estimated_delivery_date'] = pd.to_datetime(data['order_estimated_delivery_date'], errors='coerce').dt.date\n",
    "data['order_delivered_customer_date'] = pd.to_datetime(data['order_delivered_customer_date'], errors='coerce').dt.date\n",
    "data['shipping_limit_date'] = pd.to_datetime(data['shipping_limit_date'], errors='coerce').dt.date\n",
    "\n",
    "type(data['order_delivered_customer_date'][0])"
   ]
  },
  {
   "cell_type": "code",
   "execution_count": 5,
   "id": "77f420f6-c668-48c5-9a87-20810325fc89",
   "metadata": {},
   "outputs": [],
   "source": [
    "#subtracting the order_purchase_time to rest time based feature and converting date time into string to remove the timestamp notation \n",
    "data['delivery_days'] = data['order_delivered_customer_date'].sub(data['order_purchase_timestamp'],axis=0).astype(str)\n",
    "data['estimated_days'] = data['order_estimated_delivery_date'].sub(data['order_purchase_timestamp'],axis=0).astype(str)\n",
    "data['ships_in'] = data['shipping_limit_date'].sub(data['order_purchase_timestamp'],axis=0).astype(str)"
   ]
  },
  {
   "cell_type": "code",
   "execution_count": 6,
   "id": "5bc64772-6b74-4d09-822a-27ea311d8b63",
   "metadata": {},
   "outputs": [
    {
     "data": {
      "text/plain": [
       "0          8 days, 0:00:00\n",
       "1          8 days, 0:00:00\n",
       "2          8 days, 0:00:00\n",
       "3          9 days, 0:00:00\n",
       "4         14 days, 0:00:00\n",
       "                ...       \n",
       "112291    22 days, 0:00:00\n",
       "112292    25 days, 0:00:00\n",
       "112293    17 days, 0:00:00\n",
       "112294    17 days, 0:00:00\n",
       "112295     8 days, 0:00:00\n",
       "Name: delivery_days, Length: 112296, dtype: object"
      ]
     },
     "execution_count": 6,
     "metadata": {},
     "output_type": "execute_result"
    }
   ],
   "source": [
    "data['delivery_days']"
   ]
  },
  {
   "cell_type": "code",
   "execution_count": 7,
   "id": "c783601a-57b9-4500-89c8-d0ee3216657a",
   "metadata": {},
   "outputs": [],
   "source": [
    "data['delivery_days'] = data['delivery_days'].str.split(',').str.get(0)\n",
    "data['estimated_days'] = data['estimated_days'].str.split(',').str.get(0)\n",
    "data['ships_in'] = data['ships_in'].str.split(',').str.get(0)"
   ]
  },
  {
   "cell_type": "code",
   "execution_count": 8,
   "id": "197fe3cd-2519-4717-8740-c7b8699d7aaa",
   "metadata": {},
   "outputs": [
    {
     "data": {
      "text/plain": [
       "0     8 days\n",
       "1     8 days\n",
       "2     8 days\n",
       "3     9 days\n",
       "4    14 days\n",
       "5     3 days\n",
       "6    17 days\n",
       "7    10 days\n",
       "8    10 days\n",
       "9    18 days\n",
       "Name: delivery_days, dtype: object"
      ]
     },
     "execution_count": 8,
     "metadata": {},
     "output_type": "execute_result"
    }
   ],
   "source": [
    "data['delivery_days'].head(10)"
   ]
  },
  {
   "cell_type": "code",
   "execution_count": 9,
   "id": "026ad0b6-1cf2-4bf4-8540-da43e34314d5",
   "metadata": {},
   "outputs": [],
   "source": [
    "#converting type to int\n",
    "data['delivery_days'] = data['delivery_days'].str.extract(r'(\\d+)').astype(float).astype(int)\n",
    "data['estimated_days'] = data['estimated_days'].str.replace(\" days\",\"\").astype(int)\n",
    "data['ships_in'] = data['ships_in'].str.replace(\" days\",\"\").astype(int)\n",
    "data['arrival_time'] = (data['estimated_days'] - data['delivery_days']).apply(lambda x: 'Early/OnTime' if x > 0 else 'Late')"
   ]
  },
  {
   "cell_type": "code",
   "execution_count": 10,
   "id": "6ed068ba-723f-4b3d-bd83-716d56829d77",
   "metadata": {},
   "outputs": [
    {
     "data": {
      "text/plain": [
       "0          8\n",
       "1          8\n",
       "2          8\n",
       "3          9\n",
       "4         14\n",
       "          ..\n",
       "112291    22\n",
       "112292    25\n",
       "112293    17\n",
       "112294    17\n",
       "112295     8\n",
       "Name: delivery_days, Length: 112296, dtype: int32"
      ]
     },
     "execution_count": 10,
     "metadata": {},
     "output_type": "execute_result"
    }
   ],
   "source": [
    "data['delivery_days']"
   ]
  },
  {
   "cell_type": "code",
   "execution_count": 11,
   "id": "ccab833e-43c8-43b5-8171-5e74bf947152",
   "metadata": {},
   "outputs": [
    {
     "name": "stderr",
     "output_type": "stream",
     "text": [
      "C:\\Users\\adityajha01\\.conda\\envs\\CustomerSatisfaction\\lib\\site-packages\\seaborn\\axisgrid.py:854: UserWarning: \n",
      "\n",
      "`distplot` is a deprecated function and will be removed in seaborn v0.14.0.\n",
      "\n",
      "Please adapt your code to use either `displot` (a figure-level function with\n",
      "similar flexibility) or `histplot` (an axes-level function for histograms).\n",
      "\n",
      "For a guide to updating your code to use the new functions, please see\n",
      "https://gist.github.com/mwaskom/de44147ed2974457ad6372750bbe5751\n",
      "\n",
      "  func(*plot_args, **plot_kwargs)\n",
      "C:\\Users\\adityajha01\\.conda\\envs\\CustomerSatisfaction\\lib\\site-packages\\seaborn\\axisgrid.py:854: UserWarning: \n",
      "\n",
      "`distplot` is a deprecated function and will be removed in seaborn v0.14.0.\n",
      "\n",
      "Please adapt your code to use either `displot` (a figure-level function with\n",
      "similar flexibility) or `histplot` (an axes-level function for histograms).\n",
      "\n",
      "For a guide to updating your code to use the new functions, please see\n",
      "https://gist.github.com/mwaskom/de44147ed2974457ad6372750bbe5751\n",
      "\n",
      "  func(*plot_args, **plot_kwargs)\n"
     ]
    },
    {
     "data": {
      "image/png": "[encoded data removed]",
      "text/plain": [
       "<Figure size 643.5x500 with 1 Axes>"
      ]
     },
     "metadata": {},
     "output_type": "display_data"
    }
   ],
   "source": [
    "sns.FacetGrid(data, hue=\"arrival_time\", height=5) \\\n",
    "   .map(sns.distplot, 'review_score') \\\n",
    "   .add_legend();\n",
    "plt.show();"
   ]
  },
  {
   "cell_type": "code",
   "execution_count": 12,
   "id": "20f0abab-a5ce-450d-a5ed-907abd98b62d",
   "metadata": {},
   "outputs": [
    {
     "data": {
      "text/plain": [
       "arrival_time\n",
       "Early/OnTime    103630\n",
       "Late              8666\n",
       "Name: count, dtype: int64"
      ]
     },
     "execution_count": 12,
     "metadata": {},
     "output_type": "execute_result"
    }
   ],
   "source": [
    "data.arrival_time.value_counts()"
   ]
  },
  {
   "cell_type": "markdown",
   "id": "f68abd3e-66ba-43ec-bbf9-f715682964e0",
   "metadata": {},
   "source": [
    "**Observations**\n",
    "\n",
    "1. Clearly from the above plot the cutomers are more likely to give an 4-5 rating if the product either arrives early or arrive on time.\n",
    "2. As delivery time impacts a lot to the customer rating we will do further analysis on the delivery time."
   ]
  },
  {
   "cell_type": "code",
   "execution_count": 13,
   "id": "0634db8d-4ed0-4c2b-8e45-a8b97ab4dc88",
   "metadata": {},
   "outputs": [
    {
     "name": "stdout",
     "output_type": "stream",
     "text": [
      "(606,)\n",
      "Percentage of extermely late delivered packages in the dataset is: 0.54%\n"
     ]
    }
   ],
   "source": [
    "#dropping exceptional delivery or possible outliers\n",
    "ix = data[(data['delivery_days'] > 60) | (data['estimated_days'] > 60) | (data['ships_in'] > 60)].index\n",
    "print(ix.shape)\n",
    "\n",
    "print('Percentage of extermely late delivered packages in the dataset is: {}%'.format(round((((ix.shape[0])/(data.shape[0])))*100,3)))\n",
    "#we can remove those outliers\n",
    "data.drop(ix,inplace=True)"
   ]
  },
  {
   "cell_type": "code",
   "execution_count": 14,
   "id": "61501b18-7116-47ec-89a4-55478d0c598b",
   "metadata": {},
   "outputs": [],
   "source": [
    "#binning and grouping delivery times into groups or classes\n",
    "\n",
    "delivery_feedbacks = []\n",
    "estimated_del_feedbacks = []\n",
    "shipping_feedback = []\n",
    "d_days = data.delivery_days.values.tolist()\n",
    "est_days = data.estimated_days.values.tolist()\n",
    "ship_days = data.ships_in.values.tolist()\n",
    "\n",
    "#actual delivery days\n",
    "for i in d_days:\n",
    "    if i in range(0,8):\n",
    "        delivery_feedbacks.append('Very_Fast')\n",
    "    elif i in range(8,16):\n",
    "        delivery_feedbacks.append('Fast')\n",
    "    elif i in range(16,25):\n",
    "        delivery_feedbacks.append('Neutral')\n",
    "    elif i in range(25,40):\n",
    "        delivery_feedbacks.append('Slow')\n",
    "    elif i in range(40,61):\n",
    "        delivery_feedbacks.append('Worst')\n",
    "\n",
    "#estimated delivery days\n",
    "for i in est_days:\n",
    "    if i in range(0,8):\n",
    "        estimated_del_feedbacks.append('Very_Fast')\n",
    "    elif i in range(8,16):\n",
    "        estimated_del_feedbacks.append('Fast')\n",
    "    elif i in range(16,25):\n",
    "        estimated_del_feedbacks.append('Neutral')\n",
    "    elif i in range(25,40):\n",
    "        estimated_del_feedbacks.append('Slow')\n",
    "    elif i in range(40,61):\n",
    "        estimated_del_feedbacks.append('Worst')\n",
    "\n",
    "#estimated shipping days\n",
    "for i in ship_days:\n",
    "    if i in range(0,4):\n",
    "        shipping_feedback.append('Very_Fast')\n",
    "    elif i in range(4,8):\n",
    "        shipping_feedback.append('Fast')\n",
    "    elif i in range(8,16):\n",
    "        shipping_feedback.append('Neutral')\n",
    "    elif i in range(16,28):\n",
    "        shipping_feedback.append('Slow')\n",
    "    elif i in range(28,61):\n",
    "        shipping_feedback.append('Worst')\n",
    "\n",
    "#putting list values into the dataframe as feature\n",
    "data['delivery_impression'] = delivery_feedbacks\n",
    "data['estimated_del_impression'] = estimated_del_feedbacks\n",
    "data['ship_impression'] = shipping_feedback"
   ]
  },
  {
   "cell_type": "code",
   "execution_count": 15,
   "id": "283ad108-8d84-4bd4-80c5-11215f68603f",
   "metadata": {},
   "outputs": [
    {
     "data": {
      "text/plain": [
       "<Axes: ylabel='review_score'>"
      ]
     },
     "execution_count": 15,
     "metadata": {},
     "output_type": "execute_result"
    },
    {
     "data": {
      "image/png": "[encoded data removed]",
      "text/plain": [
       "<Figure size 2000x800 with 1 Axes>"
      ]
     },
     "metadata": {},
     "output_type": "display_data"
    }
   ],
   "source": [
    "#Delivery Days histogram with review rating as hue\n",
    "df_plot = data.groupby(['delivery_impression', 'review_score']).size().reset_index().pivot(columns='delivery_impression', index='review_score', values=0)\n",
    "df_plot.plot(kind='barh',stacked=True,figsize=(20,8))"
   ]
  },
  {
   "cell_type": "code",
   "execution_count": 16,
   "id": "40d5c07f-a20a-434a-838b-4fad1ba28739",
   "metadata": {},
   "outputs": [
    {
     "data": {
      "image/png": "[encoded data removed]",
      "text/plain": [
       "<Figure size 2400x1200 with 1 Axes>"
      ]
     },
     "metadata": {},
     "output_type": "display_data"
    }
   ],
   "source": [
    "#Estimated Days histogram with review rating as hue\n",
    "est_days = data.ship_impression.values.tolist()\n",
    "review_score = data.review_score.values\n",
    "\n",
    "# Create a DataFrame from the data\n",
    "df = pd.DataFrame({'est_days': est_days, 'review_score': review_score})\n",
    "melted_df = pd.melt(df, id_vars=['est_days'], value_vars=['review_score'])\n",
    "\n",
    "# Plotting the histogram with 'est_days' as x-axis and 'review_score' as hue\n",
    "fig = plt.figure(figsize=(24, 12))\n",
    "sns.countplot(data=melted_df, x='est_days', hue='value', palette='rocket')\n",
    "plt.show()"
   ]
  },
  {
   "cell_type": "markdown",
   "id": "8a062b1b-a40b-415a-8fe9-0bb33384b608",
   "metadata": {},
   "source": [
    "**Observations**\n",
    "\n",
    "1. Majority of orders are delivered in the Fast range i.e (8-15) within 2 weeks .\n",
    "2. However, next to it Very Fast range of delivery days which is (0-7) days.\n",
    "3. Important observation here is customers are more likely to get things delivered in top 3 categories which are Fast,Very Fast and Neutral. From which majority of elment have rated the product to be 5 , some 4 while very few have rated less than in each of the 3 cases.\n",
    "4. Delivery days is thus an important feature which can be added.\n",
    "5. Moreover we have another feature which is estmated delivery date, so we also add a new feature to the dataset which is estimated delivery days. This can be some what useful, because this date is shown in advance to the user.\n",
    "6. In the estimated delivery date feature, company have the maximum days it can take to reach.\n",
    "7. Upon observing the histograms for the estimated_day with rating as hue, similar trend of maximum rating for all the Fast Neutral and slow category. However, very fast category becomes one of the least."
   ]
  },
  {
   "cell_type": "code",
   "execution_count": 17,
   "id": "790938cc-3f15-4ad6-b304-7d072ba34d2a",
   "metadata": {},
   "outputs": [
    {
     "data": {
      "text/plain": [
       "111690"
      ]
     },
     "execution_count": 17,
     "metadata": {},
     "output_type": "execute_result"
    }
   ],
   "source": [
    "from collections import Counter\n",
    "#finding all those customers who have made multiple product purchases\n",
    "order_counts = [k for k,v in Counter(data.customer_unique_id).items() if v > 1]\n",
    "existing_cust = []\n",
    "for i in data.customer_unique_id.values:\n",
    "    if i in order_counts:\n",
    "        existing_cust.append(1)\n",
    "    else:\n",
    "        existing_cust.append(0)\n",
    "len(existing_cust)"
   ]
  },
  {
   "cell_type": "code",
   "execution_count": 18,
   "id": "ae01c962-3da7-44a7-a116-19dab90f6e50",
   "metadata": {},
   "outputs": [
    {
     "name": "stdout",
     "output_type": "stream",
     "text": [
      "Number of orders that are made using exisiting customer/Multiple orders are  34935\n"
     ]
    }
   ],
   "source": [
    "print('Number of orders that are made using exisiting customer/Multiple orders are ',existing_cust.count(1))"
   ]
  },
  {
   "cell_type": "code",
   "execution_count": 19,
   "id": "1d0bcbb6-ea84-4c36-a774-1101e2d69325",
   "metadata": {},
   "outputs": [
    {
     "data": {
      "text/plain": [
       "(111690, 32)"
      ]
     },
     "execution_count": 19,
     "metadata": {},
     "output_type": "execute_result"
    }
   ],
   "source": [
    "#seller popularity based on number of orders for each seller\n",
    "max_value_count = data.seller_id.value_counts().max()\n",
    "seller = data.seller_id.value_counts().to_dict()\n",
    "seller_popularity = []\n",
    "for _id in data.seller_id.values:\n",
    "    seller_popularity.append(seller[_id])\n",
    "data['seller_popularity'] = seller_popularity\n",
    "data.shape"
   ]
  },
  {
   "cell_type": "markdown",
   "id": "fc6db0b8-5fed-43e9-bd1e-cf452356135c",
   "metadata": {},
   "source": [
    "**Observations**\n",
    "\n",
    "As in most of the cases customer and seller zip_code are not matching so we are dropping the feature because it will increase dimension by 34k."
   ]
  },
  {
   "cell_type": "code",
   "execution_count": 20,
   "id": "6932962b-a5c0-406d-930a-368b7a421f2f",
   "metadata": {},
   "outputs": [
    {
     "data": {
      "text/plain": [
       "(111690, 28)"
      ]
     },
     "execution_count": 20,
     "metadata": {},
     "output_type": "execute_result"
    }
   ],
   "source": [
    "#dropping all id based features\n",
    "data.drop(['customer_unique_id','seller_id','product_id','zipCode_prefix_seller','zipCode_prefix_cust'],axis=1,inplace=True)\n",
    "\n",
    "#adding exisitng customer and seller_ID feature\n",
    "\n",
    "data['existing_cust'] = existing_cust\n",
    "data.shape"
   ]
  },
  {
   "cell_type": "code",
   "execution_count": 21,
   "id": "a802576b-7a22-423c-8e4c-b7f1b2f49978",
   "metadata": {},
   "outputs": [
    {
     "name": "stdout",
     "output_type": "stream",
     "text": [
      "(102302, 28)\n"
     ]
    }
   ],
   "source": [
    "#if score> 3, set score = 1\n",
    "#if score<=3, set score = 0 \n",
    "data.loc[data['review_score'] < 3 ,'Score'] = 0\n",
    "data.loc[data['review_score'] > 3,'Score'] = 1\n",
    "#removing neutral reviews\n",
    "data.drop(data[data['review_score'] == 3].index,inplace=True)\n",
    "data.drop('review_score',axis=1,inplace=True)\n",
    "print(data.shape)"
   ]
  },
  {
   "cell_type": "code",
   "execution_count": 22,
   "id": "ff6be847-9e39-42dd-aed1-523c814cdd52",
   "metadata": {},
   "outputs": [],
   "source": [
    "#removing the datetime features as we dont need them now\n",
    "data.drop(['order_purchase_timestamp', 'order_delivered_carrier_date',\n",
    "       'order_delivered_customer_date', 'order_estimated_delivery_date','shipping_limit_date'],axis=1,inplace=True)\n",
    "data.to_csv('../data/final_data.csv',index=False)"
   ]
  },
  {
   "cell_type": "code",
   "execution_count": 23,
   "id": "32dd85e2-176c-453c-850b-a49f364f68cc",
   "metadata": {},
   "outputs": [
    {
     "name": "stdout",
     "output_type": "stream",
     "text": [
      "(102302, 23)\n",
      "Final set of features are : \n"
     ]
    },
    {
     "data": {
      "text/plain": [
       "Index(['payment_sequential', 'payment_type', 'payment_installments',\n",
       "       'payment_value', 'customer_city', 'customer_state', 'price',\n",
       "       'freight_value', 'product_name_length', 'product_description_length',\n",
       "       'product_photos_qty', 'seller_state', 'product_category_name',\n",
       "       'delivery_days', 'estimated_days', 'ships_in', 'arrival_time',\n",
       "       'delivery_impression', 'estimated_del_impression', 'ship_impression',\n",
       "       'seller_popularity', 'existing_cust', 'Score'],\n",
       "      dtype='object')"
      ]
     },
     "execution_count": 23,
     "metadata": {},
     "output_type": "execute_result"
    }
   ],
   "source": [
    "print(data.shape)\n",
    "print('Final set of features are : ')\n",
    "data.columns"
   ]
  },
  {
   "cell_type": "markdown",
   "id": "edd47ac3-2869-469d-a9fb-d131abdcd76e",
   "metadata": {},
   "source": [
    "**Summary**\n",
    "\n",
    "1. Data is heavily imbalanced having mostly positive review_score, which can impact the model so we have to perform data modelling accordingly.\n",
    "2. From above analysis it is quite conclusive that the review_score highly depends on the delivery time, however some of the rest features are also useful but we need actual model to determine feature importances.\n",
    "3. We have added few more features to the dataset that coresponds to the delivery and shipment.\n",
    "4. We will be strict about sentiments in this analysis and consider even neutral or (3 rating) to be negetive because for product recommendation the stricter the benchmark, the better the results.\n",
    "5. Feature engineering done here might not be sufficient to obtain the best accuracy so we might need to perform some more feature engineering."
   ]
  },
  {
   "cell_type": "code",
   "execution_count": null,
   "id": "74a37e09-9b84-46df-8055-f1b51651ac3b",
   "metadata": {},
   "outputs": [],
   "source": []
  }
 ],
 "metadata": {
  "kernelspec": {
   "display_name": "Python 3 (ipykernel)",
   "language": "python",
   "name": "python3"
  },
  "language_info": {
   "codemirror_mode": {
    "name": "ipython",
    "version": 3
   },
   "file_extension": ".py",
   "mimetype": "text/x-python",
   "name": "python",
   "nbconvert_exporter": "python",
   "pygments_lexer": "ipython3",
   "version": "3.10.14"
  }
 },
 "nbformat": 4,
 "nbformat_minor": 5
}
